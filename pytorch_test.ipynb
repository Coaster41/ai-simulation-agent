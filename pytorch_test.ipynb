{
 "cells": [
  {
   "cell_type": "code",
   "execution_count": 1,
   "metadata": {},
   "outputs": [],
   "source": [
    "import torch\n",
    "import numpy as np\n",
    "import pandas as pd\n",
    "from sklearn.model_selection import train_test_split\n",
    "import torch.nn as nn\n",
    "from torch.utils.data import DataLoader, TensorDataset\n",
    "import matplotlib.pyplot as plt\n",
    "from IPython.display import display"
   ]
  },
  {
   "cell_type": "code",
   "execution_count": 2,
   "metadata": {},
   "outputs": [
    {
     "name": "stdout",
     "output_type": "stream",
     "text": [
      "True\n",
      "1\n",
      "0\n",
      "NVIDIA GeForce RTX 3060 Laptop GPU\n"
     ]
    }
   ],
   "source": [
    "print(torch.cuda.is_available())\n",
    "print(torch.cuda.device_count())\n",
    "print(torch.cuda.current_device())\n",
    "print(torch.cuda.get_device_name(torch.cuda.current_device()))\n",
    "device = torch.device('cuda:0')"
   ]
  },
  {
   "cell_type": "code",
   "execution_count": 3,
   "metadata": {},
   "outputs": [
    {
     "name": "stdout",
     "output_type": "stream",
     "text": [
      "(10000, 101)\n",
      "(10000,)\n",
      "torch.Size([10000, 1, 10, 10]) torch.Size([10000, 1])\n",
      "torch.Size([6700, 1, 10, 10]) torch.Size([6700, 1])\n"
     ]
    }
   ],
   "source": [
    "df = pd.read_csv('results/results_100_10000.csv', header=None)\n",
    "model_num = 1\n",
    "# display(df)\n",
    "results = df.to_numpy()\n",
    "print(results.shape)\n",
    "print(results[:,-1].shape)\n",
    "X = torch.tensor(results[:,:-1]).to(torch.float32).to(device)\n",
    "if model_num == 1:\n",
    "    X = torch.reshape(X,(X.shape[0],1,10,10))\n",
    "y = torch.tensor(np.expand_dims(results[:,-1], axis=1)).to(torch.float32).to(device)\n",
    "print(X.shape, y.shape)\n",
    "X_train, X_test, y_train, y_test = train_test_split(X, y, test_size=0.33, random_state=42)\n",
    "print(X_train.shape, y_train.shape)\n",
    "# Setting up Dataloader\n",
    "# training_dataset = TensorDataset(X_train, y_train)\n",
    "# train_loader = DataLoader(training_dataset, batch_size=24, shuffle=True)"
   ]
  },
  {
   "cell_type": "code",
   "execution_count": 58,
   "metadata": {},
   "outputs": [
    {
     "name": "stdout",
     "output_type": "stream",
     "text": [
      "Sequential(\n",
      "  (0): Conv2d(1, 64, kernel_size=(2, 2), stride=(1, 1))\n",
      "  (1): ReLU()\n",
      "  (2): BatchNorm2d(64, eps=1e-05, momentum=0.1, affine=True, track_running_stats=True)\n",
      "  (3): Conv2d(64, 32, kernel_size=(3, 3), stride=(1, 1))\n",
      "  (4): ReLU()\n",
      "  (5): BatchNorm2d(32, eps=1e-05, momentum=0.1, affine=True, track_running_stats=True)\n",
      "  (6): Flatten(start_dim=1, end_dim=-1)\n",
      "  (7): Linear(in_features=1568, out_features=30, bias=True)\n",
      "  (8): ReLU()\n",
      "  (9): Linear(in_features=30, out_features=15, bias=True)\n",
      "  (10): ReLU()\n",
      "  (11): Linear(in_features=15, out_features=1, bias=True)\n",
      "  (12): Sigmoid()\n",
      ")\n"
     ]
    }
   ],
   "source": [
    "input_size = X.shape[1]\n",
    "if model_num == 0:\n",
    "    model = nn.Sequential(nn.Linear(input_size, 64),\n",
    "                        nn.ReLU(),\n",
    "                        nn.Linear(64,32),\n",
    "                        nn.ReLU(),\n",
    "                        nn.Linear(32,32),\n",
    "                        nn.BatchNorm2d(),\n",
    "                        nn.ReLU(),\n",
    "                        nn.Linear(32, 1),\n",
    "                        nn.Sigmoid())\n",
    "else:\n",
    "    model = nn.Sequential(nn.Conv2d(1,64,2),\n",
    "                          nn.ReLU(),\n",
    "                          nn.BatchNorm2d(num_features=64),\n",
    "                          nn.Conv2d(64,32,3),\n",
    "                          nn.ReLU(),\n",
    "                          nn.BatchNorm2d(num_features=32),\n",
    "                          nn.Flatten(),\n",
    "                          nn.Linear(1568, 30),\n",
    "                          nn.ReLU(),\n",
    "                          nn.Linear(30, 15),\n",
    "                          nn.ReLU(),\n",
    "                          nn.Linear(15,1),\n",
    "                          nn.Sigmoid())\n",
    "model.to(device)\n",
    "print(model)"
   ]
  },
  {
   "cell_type": "code",
   "execution_count": 59,
   "metadata": {},
   "outputs": [],
   "source": [
    "loss_function = nn.MSELoss()\n",
    "# loss_function = nn.BCELoss()\n",
    "\n",
    "learning_rate = 0.001\n",
    "optimizer = torch.optim.Adam(model.parameters(), lr=learning_rate, weight_decay=0.001)\n",
    "losses = []"
   ]
  },
  {
   "cell_type": "code",
   "execution_count": 60,
   "metadata": {},
   "outputs": [],
   "source": [
    "epochs = 1000\n",
    "for epoch in range(epochs):\n",
    "  y_pred = model(X_train)\n",
    "  loss = loss_function(y_pred, y_train)\n",
    "  losses.append(loss.item())\n",
    "\n",
    "  model.zero_grad()\n",
    "  loss.backward()\n",
    "\n",
    "  optimizer.step()"
   ]
  },
  {
   "cell_type": "code",
   "execution_count": 61,
   "metadata": {},
   "outputs": [
    {
     "data": {
      "image/png": "[encoded data removed]",
      "text/plain": [
       "<Figure size 432x288 with 1 Axes>"
      ]
     },
     "metadata": {
      "needs_background": "light"
     },
     "output_type": "display_data"
    }
   ],
   "source": [
    "plt.plot(losses)\n",
    "plt.ylabel('loss')\n",
    "plt.xlabel('epoch')\n",
    "plt.title(\"Learning rate %f\"%(learning_rate))\n",
    "plt.show()"
   ]
  },
  {
   "cell_type": "code",
   "execution_count": 62,
   "metadata": {},
   "outputs": [
    {
     "name": "stdout",
     "output_type": "stream",
     "text": [
      "0.017766855657100677\n"
     ]
    },
    {
     "data": {
      "text/html": [
       "<div>\n",
       "<style scoped>\n",
       "    .dataframe tbody tr th:only-of-type {\n",
       "        vertical-align: middle;\n",
       "    }\n",
       "\n",
       "    .dataframe tbody tr th {\n",
       "        vertical-align: top;\n",
       "    }\n",
       "\n",
       "    .dataframe thead th {\n",
       "        text-align: right;\n",
       "    }\n",
       "</style>\n",
       "<table border=\"1\" class=\"dataframe\">\n",
       "  <thead>\n",
       "    <tr style=\"text-align: right;\">\n",
       "      <th></th>\n",
       "      <th>y_test</th>\n",
       "      <th>y_pred</th>\n",
       "    </tr>\n",
       "  </thead>\n",
       "  <tbody>\n",
       "    <tr>\n",
       "      <th>0</th>\n",
       "      <td>0.17</td>\n",
       "      <td>0.110856</td>\n",
       "    </tr>\n",
       "    <tr>\n",
       "      <th>1</th>\n",
       "      <td>0.93</td>\n",
       "      <td>0.709152</td>\n",
       "    </tr>\n",
       "    <tr>\n",
       "      <th>2</th>\n",
       "      <td>0.88</td>\n",
       "      <td>0.656199</td>\n",
       "    </tr>\n",
       "    <tr>\n",
       "      <th>3</th>\n",
       "      <td>0.60</td>\n",
       "      <td>0.360878</td>\n",
       "    </tr>\n",
       "    <tr>\n",
       "      <th>4</th>\n",
       "      <td>0.01</td>\n",
       "      <td>0.039649</td>\n",
       "    </tr>\n",
       "    <tr>\n",
       "      <th>...</th>\n",
       "      <td>...</td>\n",
       "      <td>...</td>\n",
       "    </tr>\n",
       "    <tr>\n",
       "      <th>3295</th>\n",
       "      <td>0.01</td>\n",
       "      <td>0.073872</td>\n",
       "    </tr>\n",
       "    <tr>\n",
       "      <th>3296</th>\n",
       "      <td>0.26</td>\n",
       "      <td>0.182848</td>\n",
       "    </tr>\n",
       "    <tr>\n",
       "      <th>3297</th>\n",
       "      <td>0.91</td>\n",
       "      <td>0.964233</td>\n",
       "    </tr>\n",
       "    <tr>\n",
       "      <th>3298</th>\n",
       "      <td>0.46</td>\n",
       "      <td>0.446859</td>\n",
       "    </tr>\n",
       "    <tr>\n",
       "      <th>3299</th>\n",
       "      <td>0.04</td>\n",
       "      <td>0.078319</td>\n",
       "    </tr>\n",
       "  </tbody>\n",
       "</table>\n",
       "<p>3300 rows × 2 columns</p>\n",
       "</div>"
      ],
      "text/plain": [
       "      y_test    y_pred\n",
       "0       0.17  0.110856\n",
       "1       0.93  0.709152\n",
       "2       0.88  0.656199\n",
       "3       0.60  0.360878\n",
       "4       0.01  0.039649\n",
       "...      ...       ...\n",
       "3295    0.01  0.073872\n",
       "3296    0.26  0.182848\n",
       "3297    0.91  0.964233\n",
       "3298    0.46  0.446859\n",
       "3299    0.04  0.078319\n",
       "\n",
       "[3300 rows x 2 columns]"
      ]
     },
     "metadata": {},
     "output_type": "display_data"
    }
   ],
   "source": [
    "y_pred = model(X_test)\n",
    "loss = loss_function(y_pred, y_test)\n",
    "print(loss.item())\n",
    "compiled_results = y_test.cpu().detach().numpy()\n",
    "compiled_results = np.append(compiled_results, y_pred.cpu().detach().numpy(), axis=1)\n",
    "results = pd.DataFrame(compiled_results, columns = ['y_test','y_pred'])\n",
    "pd.set_option('display.max_rows', 30)\n",
    "display(results)"
   ]
  },
  {
   "cell_type": "code",
   "execution_count": null,
   "metadata": {},
   "outputs": [],
   "source": []
  }
 ],
 "metadata": {
  "kernelspec": {
   "display_name": "conda1",
   "language": "python",
   "name": "python3"
  },
  "language_info": {
   "codemirror_mode": {
    "name": "ipython",
    "version": 3
   },
   "file_extension": ".py",
   "mimetype": "text/x-python",
   "name": "python",
   "nbconvert_exporter": "python",
   "pygments_lexer": "ipython3",
   "version": "3.9.13"
  },
  "orig_nbformat": 4
 },
 "nbformat": 4,
 "nbformat_minor": 2
}
