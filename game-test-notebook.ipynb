{
 "cells": [
  {
   "cell_type": "code",
   "execution_count": 1,
   "metadata": {},
   "outputs": [],
   "source": [
    "import numpy as np\n",
    "import random"
   ]
  },
  {
   "cell_type": "code",
   "execution_count": 2,
   "metadata": {},
   "outputs": [],
   "source": [
    "def distance(pos1,pos2):\n",
    "    distance = 0\n",
    "    for i in range(len(pos1)):\n",
    "        distance += (pos1[i]-pos2[i])**2\n",
    "    return (distance)**0.5"
   ]
  },
  {
   "cell_type": "code",
   "execution_count": 3,
   "metadata": {},
   "outputs": [
    {
     "data": {
      "text/plain": [
       "1.0"
      ]
     },
     "execution_count": 3,
     "metadata": {},
     "output_type": "execute_result"
    }
   ],
   "source": [
    "distance((4,5),(4,6))"
   ]
  },
  {
   "cell_type": "code",
   "execution_count": 4,
   "metadata": {},
   "outputs": [],
   "source": [
    "class Game:\n",
    "    def __init__(self, size):\n",
    "        self.board = np.zeros(shape=(size,size))\n",
    "        self.team = [[],[]]\n",
    "        self.index = [0,0]\n",
    "\n",
    "    def add_unit(self, unit, position, team):\n",
    "        if self.board[position] != 0:\n",
    "            return\n",
    "        self.board[position] = unit*[1,-1][team]\n",
    "        self.team[team].append(position)\n",
    "\n",
    "        \n",
    "# Tank units move like infantry units (towards closest enemy), except their kill percentage is halfed, \n",
    "# and their death percentage is halfed (death percentage to be implemented later).\n",
    "    def tank_unit_ai(self, position):\n",
    "        team = self.board[position] < 0\n",
    "        \n",
    "        # MOVE PHASE: will move towards the closest enemy\n",
    "        enemy = []\n",
    "        for enemy_pos in self.team[team-1]:\n",
    "            enemy.append(distance(position, enemy_pos))\n",
    "        enemy_pos = self.team[team-1][min(enumerate(enemy), key=lambda x: x[1])[0]]\n",
    "        if enemy_pos[0]!=position[0]:\n",
    "            new_pos = (position[0]+[1,-1][position[0]>enemy_pos[0]],position[1])\n",
    "        elif enemy_pos[1]!=position[1]: \n",
    "            new_pos = (position[0], position[1]+[1,-1][position[1]>enemy_pos[1]])\n",
    "        else:\n",
    "            new_pos = position\n",
    "        if self.board[new_pos] != 0:\n",
    "            new_pos = position\n",
    "        else:\n",
    "            self.board[position] = 0\n",
    "            # tank unit will be displayed on the board by number 3\n",
    "            self.board[new_pos] = [1,-1][team]*3\n",
    "        \n",
    "        # ACTION PHASE: killed smth, didn't kill smth, or can't kill smth\n",
    "        enemy = []\n",
    "        for enemy_pos in self.team[team-1]:\n",
    "            enemy.append(distance(position, enemy_pos))\n",
    "        # the closest enemy to the tank unit\n",
    "        min_dist = min(enemy)\n",
    "        if min_dist <= 1.1:\n",
    "    # this just figures out which unit should be killed and the actual killing happens later on\n",
    "    # kill percentage is half for tank\n",
    "            if random.random() > 0.6:\n",
    "                # print(team,'killed someone at',self.team[team-1][min(enumerate(enemy), key=lambda x: x[1])[0]])\n",
    "                return new_pos, self.team[team-1][min(enumerate(enemy), key=lambda x: x[1])[0]]\n",
    "        return new_pos, None\n",
    "    \n",
    "    \n",
    "    def default_ai(self, position):\n",
    "        team = self.board[position] < 0\n",
    "        # Move phase\n",
    "        # nearest enemy troop\n",
    "        enemy = []\n",
    "        for enemy_pos in self.team[team-1]:\n",
    "            enemy.append(distance(position, enemy_pos))\n",
    "        enemy_pos = self.team[team-1][min(enumerate(enemy), key=lambda x: x[1])[0]]\n",
    "        if enemy_pos[0]!=position[0]:\n",
    "            new_pos = (position[0]+[1,-1][position[0]>enemy_pos[0]],position[1])\n",
    "        elif enemy_pos[1]!=position[1]: \n",
    "            new_pos = (position[0], position[1]+[1,-1][position[1]>enemy_pos[1]])\n",
    "        else:\n",
    "            new_pos = position\n",
    "        if self.board[new_pos] != 0:\n",
    "            # don't move\n",
    "            # print('cant move', self.board[new_pos], new_pos)\n",
    "            new_pos = position\n",
    "        else:\n",
    "            self.board[position] = 0\n",
    "            self.board[new_pos] = [1,-1][team]*1\n",
    "        \n",
    "        # action phase\n",
    "        enemy = []\n",
    "        for enemy_pos in self.team[team-1]:\n",
    "            enemy.append(distance(position, enemy_pos))\n",
    "        # print('enemy distances', enemy)\n",
    "        min_dist = min(enemy)\n",
    "        if min_dist <= 1.1:\n",
    "            # print(team,'attempts to kill someone at',self.team[team-1][min(enumerate(enemy), key=lambda x: x[1])[0]])\n",
    "            if random.random() > 0.2:\n",
    "                # print(team,'killed someone at',self.team[team-1][min(enumerate(enemy), key=lambda x: x[1])[0]])\n",
    "                return new_pos, self.team[team-1][min(enumerate(enemy), key=lambda x: x[1])[0]]\n",
    "        return new_pos, None\n",
    "    \n",
    "    def turn(self, team):\n",
    "        unit_ai = [0,self.default_ai]\n",
    "        if self.index[team] == len(self.team[team]):\n",
    "            if self.index[team-1] == len(self.team[team-1]):\n",
    "                self.index = [0,0]\n",
    "            else:\n",
    "                return -1\n",
    "        unit = int(abs(self.board[self.team[team][self.index[team]]]))\n",
    "        # print('index',self.index[team], 'position',self.team[team][self.index[team]], 'team', team)\n",
    "        new_position, death = unit_ai[unit](self.team[team][self.index[team]])\n",
    "        self.team[team][self.index[team]] = new_position\n",
    "        if death != None:\n",
    "            self.board[death] = 0\n",
    "            enemy_index = 0\n",
    "            for i in range(len(self.team[team-1])):\n",
    "                if death == self.team[team-1][i]:\n",
    "                    enemy_index = i\n",
    "                    break\n",
    "            if self.index[team-1]>=enemy_index:\n",
    "                self.index[team-1]-=1\n",
    "            self.team[team-1].pop(enemy_index)\n",
    "            # print(self.team[team-1], 'is left over')\n",
    "            if len(self.team[team-1]) == 0:\n",
    "                return team\n",
    "        self.index[team]+=1\n",
    "        return -1\n",
    "    \n",
    "    def run(self):\n",
    "        turns = 0\n",
    "        while(1):\n",
    "            for team in [0,1]:\n",
    "                turns += 1\n",
    "                win = self.turn(team)\n",
    "                if win != -1:\n",
    "                    return win, turns\n",
    "                \n",
    "    def create_board(self, board):\n",
    "        pieces = np.transpose(np.nonzero(board))\n",
    "        for piece in pieces:\n",
    "            piece = tuple(piece)\n",
    "            # print(piece)\n",
    "            self.add_unit(abs(board[piece]), piece, board[piece]<0)\n",
    "\n",
    "        \n",
    "\n",
    "\n",
    "    \n",
    "\n",
    "    \n"
   ]
  },
  {
   "cell_type": "code",
   "execution_count": 5,
   "metadata": {},
   "outputs": [
    {
     "name": "stdout",
     "output_type": "stream",
     "text": [
      "[[ 0.  0.  0.  0.  0.  0.  0.  0.  0.  0.]\n",
      " [ 0.  0.  1.  0.  0.  0.  0.  0.  0.  0.]\n",
      " [ 0.  0.  0.  0.  0.  0.  0.  0.  0.  0.]\n",
      " [ 0.  0.  0.  0.  0.  0.  0.  0.  0.  0.]\n",
      " [ 0.  0.  1.  0.  0.  0.  0.  0.  0.  0.]\n",
      " [ 0.  0.  0.  0.  0. -1.  0.  0.  0.  0.]\n",
      " [ 0.  1.  0.  0. -1. -1.  0.  0.  0.  0.]\n",
      " [ 0.  0.  0.  0.  0.  0.  0.  0.  0.  0.]\n",
      " [ 0.  0.  0.  0.  0.  0.  0.  0.  0.  0.]\n",
      " [ 0.  0.  0.  0.  0.  0.  0.  0.  0.  0.]]\n"
     ]
    },
    {
     "name": "stderr",
     "output_type": "stream",
     "text": [
      "<ipython-input-4-97afd1940f74>:11: DeprecationWarning: In future, it will be an error for 'np.bool_' scalars to be interpreted as an index\n",
      "  self.board[position] = unit*[1,-1][team]\n",
      "<ipython-input-4-97afd1940f74>:12: DeprecationWarning: In future, it will be an error for 'np.bool_' scalars to be interpreted as an index\n",
      "  self.team[team].append(position)\n",
      "<ipython-input-4-97afd1940f74>:26: DeprecationWarning: In future, it will be an error for 'np.bool_' scalars to be interpreted as an index\n",
      "  new_pos = (position[0]+[1,-1][position[0]>enemy_pos[0]],position[1])\n",
      "<ipython-input-4-97afd1940f74>:37: DeprecationWarning: In future, it will be an error for 'np.bool_' scalars to be interpreted as an index\n",
      "  self.board[new_pos] = [1,-1][team]*1\n",
      "<ipython-input-4-97afd1940f74>:28: DeprecationWarning: In future, it will be an error for 'np.bool_' scalars to be interpreted as an index\n",
      "  new_pos = (position[0], position[1]+[1,-1][position[1]>enemy_pos[1]])\n"
     ]
    },
    {
     "name": "stdout",
     "output_type": "stream",
     "text": [
      "[ 0.731 31.793]\n"
     ]
    }
   ],
   "source": [
    "size = 10\n",
    "board = np.zeros((size, size))\n",
    "board[1,2] = 1\n",
    "board[6,1] = 1\n",
    "board[4,2] = 1\n",
    "board[6,4] = -1\n",
    "board[6,5] = -1\n",
    "board[5,5] = -1\n",
    "print(board)\n",
    "winners = []\n",
    "for i in range(1000):\n",
    "    game = Game(size)\n",
    "    game.create_board(board)\n",
    "    winners.append(game.run())\n",
    "print(np.mean(winners, axis=0))"
   ]
  },
  {
   "cell_type": "code",
   "execution_count": null,
   "metadata": {},
   "outputs": [],
   "source": []
  }
 ],
 "metadata": {
  "kernelspec": {
   "display_name": "Python 3",
   "language": "python",
   "name": "python3"
  },
  "language_info": {
   "codemirror_mode": {
    "name": "ipython",
    "version": 3
   },
   "file_extension": ".py",
   "mimetype": "text/x-python",
   "name": "python",
   "nbconvert_exporter": "python",
   "pygments_lexer": "ipython3",
   "version": "3.9.7"
  }
 },
 "nbformat": 4,
 "nbformat_minor": 2
}
